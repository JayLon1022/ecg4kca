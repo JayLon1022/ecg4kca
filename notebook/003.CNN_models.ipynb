{
 "cells": [
  {
   "cell_type": "code",
   "execution_count": 1,
   "metadata": {},
   "outputs": [],
   "source": [
    "%load_ext autoreload\n",
    "%autoreload 2\n",
    "# %matplotlib inline"
   ]
  },
  {
   "cell_type": "code",
   "execution_count": 2,
   "metadata": {},
   "outputs": [
    {
     "name": "stdout",
     "output_type": "stream",
     "text": [
      "\tImporting libraries...\n",
      "\n",
      "\n",
      "=== Environment Information ===\n",
      "Python version: 3.12.2\n",
      "PyTorch version: 2.6.0\n",
      "NumPy version: 1.26.4\n",
      "Platform: macOS-15.4.1-arm64-arm-64bit\n",
      "============================\n",
      "\n"
     ]
    },
    {
     "name": "stderr",
     "output_type": "stream",
     "text": [
      "Seed set to 42\n"
     ]
    },
    {
     "name": "stdout",
     "output_type": "stream",
     "text": [
      "\tImport complete!\n",
      "\n",
      "\n",
      "=== Device Information ===\n",
      "CUDA available: False\n",
      "Using device: cpu\n",
      "========================\n",
      "\n",
      "\n",
      "=== Setting Random Seeds ===\n",
      "Seed value: 42\n",
      "Setting torch CPU seed...\n",
      "Setting torch CUDA seed...\n",
      "Setting numpy seed...\n",
      "Configuring CUDNN...\n",
      "Configuring PL...\n",
      "========================\n",
      "\n"
     ]
    }
   ],
   "source": [
    "# Libraries\n",
    "print(\"\\tImporting libraries...\\n\")\n",
    "import sys; sys.path.append(\"..\")\n",
    "import os\n",
    "import pandas as pd\n",
    "import numpy as np\n",
    "import matplotlib.pyplot as plt\n",
    "import tqdm.auto as tqdm\n",
    "\n",
    "# ml libraries\n",
    "from sklearn.metrics import r2_score\n",
    "\n",
    "# dl libraries\n",
    "import torch\n",
    "import torch.nn as nn\n",
    "from torch.utils.data import TensorDataset, DataLoader\n",
    "import pytorch_lightning as pl\n",
    "torch.set_float32_matmul_precision('high')\n",
    "\n",
    "# ext. libraries\n",
    "import src.utils as utils\n",
    "import src.models as models\n",
    "from src.visuals import CustomVisualizer\n",
    "print(\"\\tImport complete!\\n\")\n",
    "\n",
    "utils.set_plt_style()\n",
    "device = utils.get_device_info()\n",
    "seed = utils.set_all_seeds()\n",
    "\n",
    "NUM_WORKERS = 23\n",
    "DATASET_NAME = \"mimic-iv-ecg\"\n",
    "DATASET_DIR = os.path.join(\"..\", \"data\", DATASET_NAME)\n",
    "OUTPUT_DIR = os.path.join(\"..\", \"out\", DATASET_NAME)\n",
    "SCORE_METRIC = 'test_r2'\n",
    "score_metric = r2_score"
   ]
  },
  {
   "cell_type": "code",
   "execution_count": 3,
   "metadata": {},
   "outputs": [],
   "source": [
    "X_train, y_train, X_test, y_test = torch.load(f\"{DATASET_DIR}/dataset.pt\")"
   ]
  },
  {
   "cell_type": "code",
   "execution_count": 4,
   "metadata": {},
   "outputs": [],
   "source": [
    "# Create an empty dictionary\n",
    "model_results = {'model_name': [], 'test_loss': [], SCORE_METRIC: []}\n",
    "max_epochs = 1000\n",
    "\n",
    "def train_evaluate_cnn(current_X_train, y_train, current_X_test, y_test, model_name, config_dim=0):  \n",
    "    cnn = models.CustomCNN()\n",
    "\n",
    "    litcnn = models.LitCNN(\n",
    "        model=cnn,\n",
    "        loss_func=nn.L1Loss(),\n",
    "        score_func=score_metric,\n",
    "        metric_name=SCORE_METRIC.split('_')[1],\n",
    "        is_classifier=False\n",
    "    )\n",
    "\n",
    "    train_set = TensorDataset(current_X_train, y_train)\n",
    "    test_set = TensorDataset(current_X_test, y_test)\n",
    "    train_set, val_set = utils.train_val_split(train_set)\n",
    "    train_loader = DataLoader(train_set, batch_size=50, shuffle=True, num_workers=NUM_WORKERS // 7, persistent_workers=True)\n",
    "    val_loader = DataLoader(val_set, batch_size=len(val_set), shuffle=False)\n",
    "    test_loader = DataLoader(test_set, batch_size=len(test_set), shuffle=False)\n",
    "\n",
    "    trainer = pl.Trainer(max_epochs=max_epochs, default_root_dir=OUTPUT_DIR, callbacks=[models.LitProgressBar()])\n",
    "    trainer.fit(litcnn, train_loader, val_loader)\n",
    "    result = trainer.test(litcnn, test_loader)\n",
    "\n",
    "    # Add current model results to the lists\n",
    "    model_results['model_name'].append(model_name)\n",
    "    model_results['test_loss'].append(result[0]['test_loss'])\n",
    "    model_results[SCORE_METRIC].append(result[0][SCORE_METRIC])\n",
    "\n",
    "    cvi = CustomVisualizer(litcnn, model_name)\n",
    "    _, axes = cvi.create_subplot_grid(1, 2, figsize=(10, 4))\n",
    "    cvi.plot_epoch_loss(max_epochs, ax=axes[0, 0])\n",
    "    cvi.plot_actual_vs_predicted(test_loader, ax=axes[0, 1])\n",
    "    plt.show()\n",
    "    \n",
    "    torch.cuda.empty_cache()\n",
    "    return litcnn"
   ]
  },
  {
   "cell_type": "code",
   "execution_count": null,
   "metadata": {},
   "outputs": [
    {
     "name": "stderr",
     "output_type": "stream",
     "text": [
      "GPU available: True (mps), used: True\n",
      "TPU available: False, using: 0 TPU cores\n",
      "HPU available: False, using: 0 HPUs\n",
      "\n",
      "  | Name      | Type      | Params | Mode \n",
      "------------------------------------------------\n",
      "0 | model     | CustomCNN | 5.6 K  | train\n",
      "1 | loss_func | MSELoss   | 0      | train\n",
      "------------------------------------------------\n",
      "5.6 K     Trainable params\n",
      "0         Non-trainable params\n",
      "5.6 K     Total params\n",
      "0.022     Total estimated model params size (MB)\n",
      "23        Modules in train mode\n",
      "0         Modules in eval mode\n"
     ]
    },
    {
     "data": {
      "application/vnd.jupyter.widget-view+json": {
       "model_id": "37eead31f080470ca8874d4fde7f1f43",
       "version_major": 2,
       "version_minor": 0
      },
      "text/plain": [
       "Sanity Checking: |          | 0/? [00:00<?, ?it/s]"
      ]
     },
     "metadata": {},
     "output_type": "display_data"
    },
    {
     "name": "stderr",
     "output_type": "stream",
     "text": [
      "/opt/anaconda3/envs/ml/lib/python3.12/site-packages/pytorch_lightning/trainer/connectors/data_connector.py:425: The 'val_dataloader' does not have many workers which may be a bottleneck. Consider increasing the value of the `num_workers` argument` to `num_workers=11` in the `DataLoader` to improve performance.\n",
      "/opt/anaconda3/envs/ml/lib/python3.12/site-packages/torch/nn/modules/conv.py:370: UserWarning: Using padding='same' with even kernel lengths and odd dilation may require a zero-padded copy of the input be created (Triggered internally at /Users/runner/work/pytorch/pytorch/pytorch/aten/src/ATen/native/Convolution.cpp:1037.)\n",
      "  return F.conv1d(\n"
     ]
    },
    {
     "data": {
      "application/vnd.jupyter.widget-view+json": {
       "model_id": "c48491f9e5d543e9aa4be036ce0c68ed",
       "version_major": 2,
       "version_minor": 0
      },
      "text/plain": [
       "Training: |          | 0/? [00:00<?, ?it/s]"
      ]
     },
     "metadata": {},
     "output_type": "display_data"
    }
   ],
   "source": [
    "y_k_train, y_k_test = y_train[:,0], y_test[:,0]\n",
    "y_ca_train, y_ca_test = y_train[:,1], y_test[:,1]\n",
    "train_evaluate_cnn(X_train, y_k_train, X_test, y_k_test, \"(CNN K)\")"
   ]
  },
  {
   "cell_type": "code",
   "execution_count": null,
   "metadata": {},
   "outputs": [],
   "source": []
  }
 ],
 "metadata": {
  "kernelspec": {
   "display_name": "ml",
   "language": "python",
   "name": "python3"
  },
  "language_info": {
   "codemirror_mode": {
    "name": "ipython",
    "version": 3
   },
   "file_extension": ".py",
   "mimetype": "text/x-python",
   "name": "python",
   "nbconvert_exporter": "python",
   "pygments_lexer": "ipython3",
   "version": "3.12.2"
  }
 },
 "nbformat": 4,
 "nbformat_minor": 2
}
